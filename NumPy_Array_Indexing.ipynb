{
 "cells": [
  {
   "cell_type": "markdown",
   "id": "d7e76334-9a67-45bb-9ff2-9b62c005b4dd",
   "metadata": {},
   "source": [
    "# Importing Numpy Library"
   ]
  },
  {
   "cell_type": "code",
   "execution_count": 2,
   "id": "2ca6376d-b285-408a-81b2-2e42bb57ccbd",
   "metadata": {},
   "outputs": [],
   "source": [
    "import numpy as np"
   ]
  },
  {
   "cell_type": "markdown",
   "id": "d20605f9-13f8-4039-901c-3ca3e35f47f7",
   "metadata": {},
   "source": [
    "## NumPy Indexing and Slicing of vectors"
   ]
  },
  {
   "cell_type": "code",
   "execution_count": 4,
   "id": "21fa7264-de83-40bb-91a5-3926abfb2966",
   "metadata": {},
   "outputs": [
    {
     "data": {
      "text/plain": [
       "array([11, 12, 13, 14, 15, 16, 17, 18, 19, 20])"
      ]
     },
     "execution_count": 4,
     "metadata": {},
     "output_type": "execute_result"
    }
   ],
   "source": [
    "arr = np.arange(11,21)\n",
    "arr"
   ]
  },
  {
   "cell_type": "code",
   "execution_count": 5,
   "id": "af649862-12fd-40f7-9a0b-0d492966684e",
   "metadata": {},
   "outputs": [
    {
     "data": {
      "text/plain": [
       "18"
      ]
     },
     "execution_count": 5,
     "metadata": {},
     "output_type": "execute_result"
    }
   ],
   "source": [
    "arr[7]"
   ]
  },
  {
   "cell_type": "code",
   "execution_count": 6,
   "id": "d3c72371-b8ef-426f-86db-ba14af8ea6cf",
   "metadata": {},
   "outputs": [
    {
     "data": {
      "text/plain": [
       "array([12, 13, 14, 15])"
      ]
     },
     "execution_count": 6,
     "metadata": {},
     "output_type": "execute_result"
    }
   ],
   "source": [
    "arr[1:5]"
   ]
  },
  {
   "cell_type": "markdown",
   "id": "e84c78f1-8a11-4b58-a790-6c5fee6a96f5",
   "metadata": {},
   "source": [
    "array[start:end:steps]: It is the method of slicing where we give the starting index, ending index, and steps."
   ]
  },
  {
   "cell_type": "markdown",
   "id": "801c6c0a-c853-4a8e-ab10-7b678487fa2a",
   "metadata": {},
   "source": [
    "## NumPy Indexing and Slicing of matrix"
   ]
  },
  {
   "cell_type": "code",
   "execution_count": 8,
   "id": "fe6044f5-12a4-4719-8dc7-747e84ce141e",
   "metadata": {},
   "outputs": [
    {
     "data": {
      "text/plain": [
       "array([[ 1,  2,  3,  4,  5],\n",
       "       [ 6,  7,  8,  9, 10],\n",
       "       [11, 12, 13, 14, 15],\n",
       "       [16, 17, 18, 19, 20],\n",
       "       [21, 22, 23, 24, 25],\n",
       "       [26, 27, 28, 29, 30]])"
      ]
     },
     "execution_count": 8,
     "metadata": {},
     "output_type": "execute_result"
    }
   ],
   "source": [
    "arr2 = np.arange(1,31).reshape(6,5)\n",
    "arr2"
   ]
  },
  {
   "cell_type": "code",
   "execution_count": 11,
   "id": "25f167a7-fcb1-4126-88ea-ec47c2df8784",
   "metadata": {},
   "outputs": [
    {
     "data": {
      "text/plain": [
       "5"
      ]
     },
     "execution_count": 11,
     "metadata": {},
     "output_type": "execute_result"
    }
   ],
   "source": [
    "arr2[0,4]"
   ]
  },
  {
   "cell_type": "code",
   "execution_count": 13,
   "id": "6913918c-3cf4-4904-8e1f-ddff9badd0c6",
   "metadata": {},
   "outputs": [
    {
     "data": {
      "text/plain": [
       "array([[2, 3],\n",
       "       [7, 8]])"
      ]
     },
     "execution_count": 13,
     "metadata": {},
     "output_type": "execute_result"
    }
   ],
   "source": [
    "slice = arr2[0:2,1:3]\n",
    "slice"
   ]
  },
  {
   "cell_type": "code",
   "execution_count": 15,
   "id": "2b0f2937-2e81-4d32-8dad-1e74f9b85b66",
   "metadata": {},
   "outputs": [
    {
     "data": {
      "text/plain": [
       "array([[19, 20],\n",
       "       [24, 25],\n",
       "       [29, 30]])"
      ]
     },
     "execution_count": 15,
     "metadata": {},
     "output_type": "execute_result"
    }
   ],
   "source": [
    "slice_2 = arr2[3:,3:]\n",
    "slice_2"
   ]
  },
  {
   "cell_type": "code",
   "execution_count": 18,
   "id": "17d3cc3b-3190-473d-95a6-b98a2f139a76",
   "metadata": {},
   "outputs": [
    {
     "data": {
      "text/plain": [
       "array([ 3,  8, 13, 18, 23, 28])"
      ]
     },
     "execution_count": 18,
     "metadata": {},
     "output_type": "execute_result"
    }
   ],
   "source": [
    "slice_3 = arr2[:,2]\n",
    "slice_3"
   ]
  },
  {
   "cell_type": "markdown",
   "id": "d7b96401-5031-4ef2-9382-5d71dd754767",
   "metadata": {},
   "source": [
    "## Boolean Indexing"
   ]
  },
  {
   "cell_type": "code",
   "execution_count": 19,
   "id": "9fd239a4-026a-40e8-80c1-0114078780ea",
   "metadata": {},
   "outputs": [
    {
     "data": {
      "text/plain": [
       "array([11, 12, 13, 14, 15, 16, 17, 18, 19, 20])"
      ]
     },
     "execution_count": 19,
     "metadata": {},
     "output_type": "execute_result"
    }
   ],
   "source": [
    "arr3 = np.arange(11,21)\n",
    "arr3"
   ]
  },
  {
   "cell_type": "code",
   "execution_count": 20,
   "id": "5aade4c9-c20a-4d1d-a72b-43256019e50b",
   "metadata": {},
   "outputs": [
    {
     "data": {
      "text/plain": [
       "array([False,  True, False,  True, False,  True, False,  True, False,\n",
       "        True])"
      ]
     },
     "execution_count": 20,
     "metadata": {},
     "output_type": "execute_result"
    }
   ],
   "source": [
    "bool_index = arr3%2 == 0\n",
    "bool_index"
   ]
  },
  {
   "cell_type": "code",
   "execution_count": 22,
   "id": "b09296d0-8481-4093-ab9b-a84fb4eb9734",
   "metadata": {},
   "outputs": [
    {
     "data": {
      "text/plain": [
       "array([12, 14, 16, 18, 20])"
      ]
     },
     "execution_count": 22,
     "metadata": {},
     "output_type": "execute_result"
    }
   ],
   "source": [
    "arr4 = arr3[bool_index]\n",
    "arr4"
   ]
  }
 ],
 "metadata": {
  "kernelspec": {
   "display_name": "Python 3 (ipykernel)",
   "language": "python",
   "name": "python3"
  },
  "language_info": {
   "codemirror_mode": {
    "name": "ipython",
    "version": 3
   },
   "file_extension": ".py",
   "mimetype": "text/x-python",
   "name": "python",
   "nbconvert_exporter": "python",
   "pygments_lexer": "ipython3",
   "version": "3.12.10"
  }
 },
 "nbformat": 4,
 "nbformat_minor": 5
}
