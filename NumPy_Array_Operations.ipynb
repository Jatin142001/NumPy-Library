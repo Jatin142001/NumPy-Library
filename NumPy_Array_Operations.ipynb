{
 "cells": [
  {
   "cell_type": "markdown",
   "id": "79a8e59e-4225-4ddb-a7ff-d61428c09d7b",
   "metadata": {},
   "source": [
    "# Importing NumPy library"
   ]
  },
  {
   "cell_type": "code",
   "execution_count": 1,
   "id": "f2b11780-68d6-4f14-acdf-3971e3c471f8",
   "metadata": {},
   "outputs": [],
   "source": [
    "import numpy as np"
   ]
  },
  {
   "cell_type": "markdown",
   "id": "d5f856c3-45a6-4fa5-8546-951b416774d6",
   "metadata": {},
   "source": [
    "## **Array Operations**"
   ]
  },
  {
   "cell_type": "markdown",
   "id": "19083f4d-24b1-4ff9-abaf-57c038e2b628",
   "metadata": {},
   "source": [
    "### 1. Arithmetic Operations"
   ]
  },
  {
   "cell_type": "code",
   "execution_count": 2,
   "id": "9d07a067-02ec-4f12-bcee-6ebe3178e544",
   "metadata": {},
   "outputs": [],
   "source": [
    "a1 = np.array([1,2,3,4,5])\n",
    "a2 = np.array([6,7,8,9,10])"
   ]
  },
  {
   "cell_type": "code",
   "execution_count": 3,
   "id": "22ad208c-60f2-4d38-8161-029a798d20cf",
   "metadata": {},
   "outputs": [
    {
     "data": {
      "text/plain": [
       "array([ 7,  9, 11, 13, 15])"
      ]
     },
     "execution_count": 3,
     "metadata": {},
     "output_type": "execute_result"
    }
   ],
   "source": [
    "sum = a1 + a2\n",
    "sum"
   ]
  },
  {
   "cell_type": "markdown",
   "id": "d676fb89-ab88-43c8-9922-764bad6828c5",
   "metadata": {},
   "source": [
    "Performing the arithmetic operation, the size of both arrays must be the same "
   ]
  },
  {
   "cell_type": "code",
   "execution_count": 4,
   "id": "ac0144b5-77cf-49fb-8a1c-c6c146d2f324",
   "metadata": {},
   "outputs": [
    {
     "data": {
      "text/plain": [
       "array([5, 5, 5, 5, 5])"
      ]
     },
     "execution_count": 4,
     "metadata": {},
     "output_type": "execute_result"
    }
   ],
   "source": [
    "difference = a2 - a1\n",
    "difference"
   ]
  },
  {
   "cell_type": "code",
   "execution_count": 5,
   "id": "27362713-3611-411a-a384-64b7a2a135da",
   "metadata": {},
   "outputs": [
    {
     "data": {
      "text/plain": [
       "array([ 6, 14, 24, 36, 50])"
      ]
     },
     "execution_count": 5,
     "metadata": {},
     "output_type": "execute_result"
    }
   ],
   "source": [
    "product = a1 * a2\n",
    "product"
   ]
  },
  {
   "cell_type": "code",
   "execution_count": 6,
   "id": "56fd86ea-b130-4ada-964a-2ba52e77085d",
   "metadata": {},
   "outputs": [
    {
     "data": {
      "text/plain": [
       "array([6.        , 3.5       , 2.66666667, 2.25      , 2.        ])"
      ]
     },
     "execution_count": 6,
     "metadata": {},
     "output_type": "execute_result"
    }
   ],
   "source": [
    "divide = a2 / a1\n",
    "divide"
   ]
  },
  {
   "cell_type": "code",
   "execution_count": 7,
   "id": "cdc24bde-8f7d-4922-a691-2030f5e5c190",
   "metadata": {},
   "outputs": [
    {
     "data": {
      "text/plain": [
       "array([6, 3, 2, 2, 2])"
      ]
     },
     "execution_count": 7,
     "metadata": {},
     "output_type": "execute_result"
    }
   ],
   "source": [
    "floor_division = a2 // a1\n",
    "floor_division"
   ]
  },
  {
   "cell_type": "markdown",
   "id": "1d3032bd-0f91-4cff-8dc2-56af94d856cb",
   "metadata": {},
   "source": [
    "### 2. Broadcasting"
   ]
  },
  {
   "cell_type": "code",
   "execution_count": 8,
   "id": "2bed0f22-9e1a-4b5a-95de-2ecfe203ae80",
   "metadata": {},
   "outputs": [
    {
     "data": {
      "text/plain": [
       "array([10, 20, 30, 40, 50])"
      ]
     },
     "execution_count": 8,
     "metadata": {},
     "output_type": "execute_result"
    }
   ],
   "source": [
    "list = [10,20,30,40,50]\n",
    "arr = np.array(list)\n",
    "arr"
   ]
  },
  {
   "cell_type": "code",
   "execution_count": 9,
   "id": "853b7452-ee89-4b21-9fae-a3435049669b",
   "metadata": {},
   "outputs": [
    {
     "data": {
      "text/plain": [
       "array([20, 30, 40, 50, 60])"
      ]
     },
     "execution_count": 9,
     "metadata": {},
     "output_type": "execute_result"
    }
   ],
   "source": [
    "arr + 10"
   ]
  },
  {
   "cell_type": "code",
   "execution_count": 10,
   "id": "612899f6-7558-4e78-8913-a0e3b03e11b8",
   "metadata": {},
   "outputs": [
    {
     "data": {
      "text/plain": [
       "array([[ 1,  2,  3,  4,  5],\n",
       "       [ 6,  7,  8,  9, 10],\n",
       "       [11, 12, 13, 14, 15],\n",
       "       [16, 17, 18, 19, 20],\n",
       "       [21, 22, 23, 24, 25]])"
      ]
     },
     "execution_count": 10,
     "metadata": {},
     "output_type": "execute_result"
    }
   ],
   "source": [
    "arr2 = np.arange(1,26).reshape(5,5)\n",
    "arr2"
   ]
  },
  {
   "cell_type": "code",
   "execution_count": 11,
   "id": "7b63b1bb-f294-4019-b26e-4185074bc2be",
   "metadata": {},
   "outputs": [
    {
     "data": {
      "text/plain": [
       "array([[11, 12, 13, 14, 15],\n",
       "       [16, 17, 18, 19, 20],\n",
       "       [21, 22, 23, 24, 25],\n",
       "       [26, 27, 28, 29, 30],\n",
       "       [31, 32, 33, 34, 35]])"
      ]
     },
     "execution_count": 11,
     "metadata": {},
     "output_type": "execute_result"
    }
   ],
   "source": [
    "arr3 = arr2 + 10\n",
    "arr3"
   ]
  },
  {
   "cell_type": "markdown",
   "id": "6ab287fd-b64c-4a83-8847-d5927e1e67a9",
   "metadata": {},
   "source": [
    "### 3. Deep and Shallow copy"
   ]
  },
  {
   "cell_type": "code",
   "execution_count": 12,
   "id": "cf1fbd20-2a08-4d4b-a4dd-7e4d965c5ae5",
   "metadata": {},
   "outputs": [
    {
     "data": {
      "text/plain": [
       "array([ 1,  2,  3,  4,  5,  6,  7,  8,  9, 10, 11, 12, 13, 14, 15, 16, 17,\n",
       "       18, 19, 20])"
      ]
     },
     "execution_count": 12,
     "metadata": {},
     "output_type": "execute_result"
    }
   ],
   "source": [
    "arr4 = np.arange(1,21)\n",
    "arr4"
   ]
  },
  {
   "cell_type": "code",
   "execution_count": 13,
   "id": "1339c6f4-9d6a-42d1-86c4-c38470724392",
   "metadata": {},
   "outputs": [
    {
     "data": {
      "text/plain": [
       "array([10, 20, 30, 40, 50])"
      ]
     },
     "execution_count": 13,
     "metadata": {},
     "output_type": "execute_result"
    }
   ],
   "source": [
    "slice = arr4[:5]\n",
    "slice = slice*10\n",
    "slice"
   ]
  },
  {
   "cell_type": "code",
   "execution_count": 14,
   "id": "f9797d95-88a0-43aa-a070-5280efc34a86",
   "metadata": {},
   "outputs": [
    {
     "data": {
      "text/plain": [
       "array([ 1,  2,  3,  4,  5,  6,  7,  8,  9, 10, 11, 12, 13, 14, 15, 16, 17,\n",
       "       18, 19, 20])"
      ]
     },
     "execution_count": 14,
     "metadata": {},
     "output_type": "execute_result"
    }
   ],
   "source": [
    "arr4"
   ]
  },
  {
   "cell_type": "code",
   "execution_count": 15,
   "id": "7b46e466-6241-40e8-9436-735c6a0d7139",
   "metadata": {},
   "outputs": [
    {
     "data": {
      "text/plain": [
       "array([ 1,  2,  3,  4,  5,  6,  7,  8,  9, 10, 11, 12, 13, 14, 15, 16, 17,\n",
       "       18, 19, 20])"
      ]
     },
     "execution_count": 15,
     "metadata": {},
     "output_type": "execute_result"
    }
   ],
   "source": [
    "arr5 = arr4.copy()\n",
    "arr5"
   ]
  },
  {
   "cell_type": "code",
   "execution_count": 16,
   "id": "8699bdc9-fb2c-49c1-8d1a-f81e1e3889a5",
   "metadata": {},
   "outputs": [
    {
     "data": {
      "text/plain": [
       "array([99,  2,  3,  4,  5,  6,  7,  8,  9, 10, 11, 12, 13, 14, 15, 16, 17,\n",
       "       18, 19, 20])"
      ]
     },
     "execution_count": 16,
     "metadata": {},
     "output_type": "execute_result"
    }
   ],
   "source": [
    "arr5[0] = 99\n",
    "arr5"
   ]
  },
  {
   "cell_type": "code",
   "execution_count": 17,
   "id": "d847ab76-f200-4340-b99d-4521dcd7b92e",
   "metadata": {},
   "outputs": [
    {
     "data": {
      "text/plain": [
       "array([ 1,  2,  3,  4,  5,  6,  7,  8,  9, 10, 11, 12, 13, 14, 15, 16, 17,\n",
       "       18, 19, 20])"
      ]
     },
     "execution_count": 17,
     "metadata": {},
     "output_type": "execute_result"
    }
   ],
   "source": [
    "arr4"
   ]
  },
  {
   "cell_type": "markdown",
   "id": "89d6ec2e-f42d-4e3e-a485-ff85177190b5",
   "metadata": {},
   "source": [
    "### 4. Matrix Operations"
   ]
  },
  {
   "cell_type": "code",
   "execution_count": 19,
   "id": "32ffe3ad-bec7-479a-84fa-5e5063fa8128",
   "metadata": {},
   "outputs": [],
   "source": [
    "A = np.array([[1,2],[3,4]])\n",
    "B = np.array([[5,6],[7,8]])"
   ]
  },
  {
   "cell_type": "code",
   "execution_count": 20,
   "id": "beaf5e64-f7ae-44a9-ad76-3b30bf10e415",
   "metadata": {},
   "outputs": [
    {
     "data": {
      "text/plain": [
       "array([[1, 2],\n",
       "       [3, 4]])"
      ]
     },
     "execution_count": 20,
     "metadata": {},
     "output_type": "execute_result"
    }
   ],
   "source": [
    "A"
   ]
  },
  {
   "cell_type": "code",
   "execution_count": 21,
   "id": "b138744a-8119-4eea-abd8-fbfce682be9a",
   "metadata": {},
   "outputs": [
    {
     "data": {
      "text/plain": [
       "array([[5, 6],\n",
       "       [7, 8]])"
      ]
     },
     "execution_count": 21,
     "metadata": {},
     "output_type": "execute_result"
    }
   ],
   "source": [
    "B"
   ]
  },
  {
   "cell_type": "code",
   "execution_count": 22,
   "id": "c1f0e569-eb64-49bc-96f0-473c0208fe7e",
   "metadata": {},
   "outputs": [
    {
     "data": {
      "text/plain": [
       "array([[19, 22],\n",
       "       [43, 50]])"
      ]
     },
     "execution_count": 22,
     "metadata": {},
     "output_type": "execute_result"
    }
   ],
   "source": [
    "arr5 = A @ B\n",
    "arr5"
   ]
  },
  {
   "cell_type": "markdown",
   "id": "a6913ced-ff02-4b17-8212-3c010e457263",
   "metadata": {},
   "source": [
    "@ symbol is used for the dot product of the two matrices"
   ]
  },
  {
   "cell_type": "code",
   "execution_count": 24,
   "id": "45c23d4d-bcec-4e07-9831-00cee469c3e5",
   "metadata": {},
   "outputs": [
    {
     "data": {
      "text/plain": [
       "array([[19, 22],\n",
       "       [43, 50]])"
      ]
     },
     "execution_count": 24,
     "metadata": {},
     "output_type": "execute_result"
    }
   ],
   "source": [
    "arr6 = np.dot(A,B)\n",
    "arr6"
   ]
  },
  {
   "cell_type": "markdown",
   "id": "b5fb3e83-3f48-4569-b1aa-484f7b39b0d5",
   "metadata": {},
   "source": [
    "np.dot(): It is also used for the dot product of two matrices"
   ]
  },
  {
   "cell_type": "code",
   "execution_count": 25,
   "id": "270ce24d-b866-4a57-a028-d746ace56d90",
   "metadata": {},
   "outputs": [
    {
     "data": {
      "text/plain": [
       "array([[19, 43],\n",
       "       [22, 50]])"
      ]
     },
     "execution_count": 25,
     "metadata": {},
     "output_type": "execute_result"
    }
   ],
   "source": [
    "arr7 = arr6.T\n",
    "arr7"
   ]
  },
  {
   "cell_type": "markdown",
   "id": "00144a6e-dfbb-4d40-beee-6249e7c31ae2",
   "metadata": {},
   "source": [
    ".T: is used for the transpose of the matrix"
   ]
  },
  {
   "cell_type": "markdown",
   "id": "bc934a87-57f0-4d24-b549-1cf76e2ac250",
   "metadata": {},
   "source": [
    "## Advanced Array Manipulation"
   ]
  },
  {
   "cell_type": "markdown",
   "id": "cd0a4f2b-6b24-4903-8bd8-debf18422467",
   "metadata": {},
   "source": [
    "### 1. Stacking Array"
   ]
  },
  {
   "cell_type": "code",
   "execution_count": 26,
   "id": "28405a23-5148-465a-a91c-e0e0c4fd4306",
   "metadata": {},
   "outputs": [],
   "source": [
    "a = np.array([1,2,3,4])\n",
    "b = np.array([5,6,7,8])"
   ]
  },
  {
   "cell_type": "code",
   "execution_count": 27,
   "id": "a7188c67-f9a1-406b-b1bf-c9b0830a5026",
   "metadata": {},
   "outputs": [
    {
     "data": {
      "text/plain": [
       "(array([1, 2, 3, 4]), array([5, 6, 7, 8]))"
      ]
     },
     "execution_count": 27,
     "metadata": {},
     "output_type": "execute_result"
    }
   ],
   "source": [
    "a,b"
   ]
  },
  {
   "cell_type": "code",
   "execution_count": 28,
   "id": "5a0784ea-5f2b-4500-a567-c82074a488dd",
   "metadata": {},
   "outputs": [
    {
     "data": {
      "text/plain": [
       "array([[1, 2, 3, 4],\n",
       "       [5, 6, 7, 8]])"
      ]
     },
     "execution_count": 28,
     "metadata": {},
     "output_type": "execute_result"
    }
   ],
   "source": [
    "np.vstack((a,b))"
   ]
  },
  {
   "cell_type": "code",
   "execution_count": 29,
   "id": "d2778088-5a63-4b25-8b62-9fa61442e8bf",
   "metadata": {},
   "outputs": [
    {
     "data": {
      "text/plain": [
       "array([1, 2, 3, 4, 5, 6, 7, 8])"
      ]
     },
     "execution_count": 29,
     "metadata": {},
     "output_type": "execute_result"
    }
   ],
   "source": [
    "np.hstack((a,b))"
   ]
  },
  {
   "cell_type": "code",
   "execution_count": 30,
   "id": "ec2aba57-1712-4948-9b3e-9c2bc64e7454",
   "metadata": {},
   "outputs": [
    {
     "data": {
      "text/plain": [
       "array([[1, 5],\n",
       "       [2, 6],\n",
       "       [3, 7],\n",
       "       [4, 8]])"
      ]
     },
     "execution_count": 30,
     "metadata": {},
     "output_type": "execute_result"
    }
   ],
   "source": [
    "np.column_stack((a,b))"
   ]
  },
  {
   "cell_type": "markdown",
   "id": "07e5bc23-bbca-4654-89de-aef1338995d3",
   "metadata": {},
   "source": [
    "### 2. Splitting Array"
   ]
  },
  {
   "cell_type": "code",
   "execution_count": 32,
   "id": "8ffc3b38-45aa-4f52-90ae-2fd31cb378eb",
   "metadata": {},
   "outputs": [
    {
     "data": {
      "text/plain": [
       "array([[ 0,  1,  2,  3],\n",
       "       [ 4,  5,  6,  7],\n",
       "       [ 8,  9, 10, 11],\n",
       "       [12, 13, 14, 15]])"
      ]
     },
     "execution_count": 32,
     "metadata": {},
     "output_type": "execute_result"
    }
   ],
   "source": [
    "arr8 = np.arange(16).reshape(4,4)\n",
    "arr8"
   ]
  },
  {
   "cell_type": "code",
   "execution_count": 37,
   "id": "8603882f-5205-422e-855d-d377c60a4b4e",
   "metadata": {},
   "outputs": [
    {
     "data": {
      "text/plain": [
       "[array([[ 0,  1],\n",
       "        [ 4,  5],\n",
       "        [ 8,  9],\n",
       "        [12, 13]]),\n",
       " array([[ 2,  3],\n",
       "        [ 6,  7],\n",
       "        [10, 11],\n",
       "        [14, 15]])]"
      ]
     },
     "execution_count": 37,
     "metadata": {},
     "output_type": "execute_result"
    }
   ],
   "source": [
    "arr9 = np.hsplit(arr8,2)\n",
    "arr9"
   ]
  },
  {
   "cell_type": "code",
   "execution_count": 38,
   "id": "d525bf0a-fa39-4922-af5c-5899a37cec01",
   "metadata": {},
   "outputs": [
    {
     "name": "stdout",
     "output_type": "stream",
     "text": [
      "[[ 0  1]\n",
      " [ 4  5]\n",
      " [ 8  9]\n",
      " [12 13]]\n",
      "[[ 2  3]\n",
      " [ 6  7]\n",
      " [10 11]\n",
      " [14 15]]\n"
     ]
    }
   ],
   "source": [
    "for i in arr9:\n",
    "    print(i)"
   ]
  },
  {
   "cell_type": "code",
   "execution_count": 39,
   "id": "d24993c0-b7c7-4a9e-9ae1-eedce0f39641",
   "metadata": {},
   "outputs": [
    {
     "data": {
      "text/plain": [
       "[array([[0, 1, 2, 3],\n",
       "        [4, 5, 6, 7]]),\n",
       " array([[ 8,  9, 10, 11],\n",
       "        [12, 13, 14, 15]])]"
      ]
     },
     "execution_count": 39,
     "metadata": {},
     "output_type": "execute_result"
    }
   ],
   "source": [
    "arr10 = np.vsplit(arr8,2)\n",
    "arr10"
   ]
  },
  {
   "cell_type": "code",
   "execution_count": 40,
   "id": "9f1d2619-dea2-4b04-af43-57c2a8bc9e08",
   "metadata": {},
   "outputs": [
    {
     "name": "stdout",
     "output_type": "stream",
     "text": [
      "[[0 1 2 3]\n",
      " [4 5 6 7]]\n",
      "[[ 8  9 10 11]\n",
      " [12 13 14 15]]\n"
     ]
    }
   ],
   "source": [
    "for i in arr10:\n",
    "    print(i)"
   ]
  }
 ],
 "metadata": {
  "kernelspec": {
   "display_name": "Python 3 (ipykernel)",
   "language": "python",
   "name": "python3"
  },
  "language_info": {
   "codemirror_mode": {
    "name": "ipython",
    "version": 3
   },
   "file_extension": ".py",
   "mimetype": "text/x-python",
   "name": "python",
   "nbconvert_exporter": "python",
   "pygments_lexer": "ipython3",
   "version": "3.12.10"
  }
 },
 "nbformat": 4,
 "nbformat_minor": 5
}
