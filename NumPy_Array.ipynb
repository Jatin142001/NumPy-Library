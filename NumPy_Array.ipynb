{
 "cells": [
  {
   "cell_type": "markdown",
   "id": "bc418b51-dc5c-4d36-ab8b-97bac53315c1",
   "metadata": {},
   "source": [
    "# Importing Numpy library"
   ]
  },
  {
   "cell_type": "code",
   "execution_count": 1,
   "id": "081e6219-5695-43a2-be5d-338ec8604dd2",
   "metadata": {},
   "outputs": [],
   "source": [
    "import numpy as np"
   ]
  },
  {
   "cell_type": "markdown",
   "id": "09fc6e8b-1803-450a-8209-099654a69be3",
   "metadata": {},
   "source": [
    "### Basic Array Creation"
   ]
  },
  {
   "cell_type": "code",
   "execution_count": 2,
   "id": "efea5fa2-66b3-4192-b7e9-908e0722ebcb",
   "metadata": {},
   "outputs": [
    {
     "data": {
      "text/plain": [
       "array([1, 2, 3, 4, 5])"
      ]
     },
     "execution_count": 2,
     "metadata": {},
     "output_type": "execute_result"
    }
   ],
   "source": [
    "arr1 = np.array([1,2,3,4,5])\n",
    "arr1"
   ]
  },
  {
   "cell_type": "code",
   "execution_count": 3,
   "id": "0c45dffd-fbbd-4a3b-9745-ba00090ef9b9",
   "metadata": {},
   "outputs": [
    {
     "data": {
      "text/plain": [
       "[1, 2, 3.5, 'Hello']"
      ]
     },
     "execution_count": 3,
     "metadata": {},
     "output_type": "execute_result"
    }
   ],
   "source": [
    "a = [1,2,3.5,\"Hello\"]\n",
    "a"
   ]
  },
  {
   "cell_type": "code",
   "execution_count": 4,
   "id": "5cd7c81b-ec0e-45f5-b945-560fdcffd0f6",
   "metadata": {},
   "outputs": [
    {
     "data": {
      "text/plain": [
       "array(['1', '2', '3.5', 'Hello'], dtype='<U32')"
      ]
     },
     "execution_count": 4,
     "metadata": {},
     "output_type": "execute_result"
    }
   ],
   "source": [
    "np.array(a)"
   ]
  },
  {
   "cell_type": "markdown",
   "id": "8881b2c1-bce7-4599-aa9f-411003b14bd0",
   "metadata": {},
   "source": [
    "Vectors: Vectors are one-dimensional.\n"
   ]
  },
  {
   "cell_type": "markdown",
   "id": "48bc41e4-50d1-4d98-bb15-4741c85d6e8b",
   "metadata": {},
   "source": [
    "Matrix: A matrix is are two-dimensional."
   ]
  },
  {
   "cell_type": "code",
   "execution_count": 5,
   "id": "ec35af33-d1d0-45e6-b4e9-173503ad82b8",
   "metadata": {},
   "outputs": [
    {
     "data": {
      "text/plain": [
       "[[1, 2, 3], [4, 5, 6], [7, 8, 9]]"
      ]
     },
     "execution_count": 5,
     "metadata": {},
     "output_type": "execute_result"
    }
   ],
   "source": [
    "list = [[1,2,3],[4,5,6],[7,8,9]]\n",
    "list"
   ]
  },
  {
   "cell_type": "code",
   "execution_count": 6,
   "id": "cb446fb1-eec1-494a-bfb1-c3c4de872bca",
   "metadata": {},
   "outputs": [
    {
     "data": {
      "text/plain": [
       "array([[1, 2, 3],\n",
       "       [4, 5, 6],\n",
       "       [7, 8, 9]])"
      ]
     },
     "execution_count": 6,
     "metadata": {},
     "output_type": "execute_result"
    }
   ],
   "source": [
    "arr2 = np.array(list)\n",
    "arr2"
   ]
  },
  {
   "cell_type": "markdown",
   "id": "dace23ac-165d-4101-8d48-1f2358ee9a2c",
   "metadata": {},
   "source": [
    "### Array Generation Function"
   ]
  },
  {
   "cell_type": "code",
   "execution_count": 7,
   "id": "8e15ab7a-9f98-4b12-9ca0-b4de70df5aba",
   "metadata": {},
   "outputs": [
    {
     "data": {
      "text/plain": [
       "array([ 1,  2,  3,  4,  5,  6,  7,  8,  9, 10])"
      ]
     },
     "execution_count": 7,
     "metadata": {},
     "output_type": "execute_result"
    }
   ],
   "source": [
    "arr3 = np.arange(1,11)\n",
    "arr3"
   ]
  },
  {
   "cell_type": "code",
   "execution_count": 8,
   "id": "42857381-09f1-458a-8577-27aa5e03d2db",
   "metadata": {},
   "outputs": [
    {
     "data": {
      "text/plain": [
       "array([[0., 0., 0.],\n",
       "       [0., 0., 0.],\n",
       "       [0., 0., 0.]])"
      ]
     },
     "execution_count": 8,
     "metadata": {},
     "output_type": "execute_result"
    }
   ],
   "source": [
    "arr4 = np.zeros((3,3))\n",
    "arr4"
   ]
  },
  {
   "cell_type": "code",
   "execution_count": 9,
   "id": "6d9d4e3e-f6e4-4b3d-a730-68794e7b145e",
   "metadata": {},
   "outputs": [
    {
     "data": {
      "text/plain": [
       "array([[1., 1., 1., 1., 1.],\n",
       "       [1., 1., 1., 1., 1.],\n",
       "       [1., 1., 1., 1., 1.],\n",
       "       [1., 1., 1., 1., 1.]])"
      ]
     },
     "execution_count": 9,
     "metadata": {},
     "output_type": "execute_result"
    }
   ],
   "source": [
    "arr5 = np.ones((4,5))\n",
    "arr5"
   ]
  },
  {
   "cell_type": "code",
   "execution_count": 10,
   "id": "d6e07dd9-747a-4502-8d12-24ccdc2fb87e",
   "metadata": {},
   "outputs": [
    {
     "data": {
      "text/plain": [
       "array([1.        , 1.11111111, 1.22222222, 1.33333333, 1.44444444,\n",
       "       1.55555556, 1.66666667, 1.77777778, 1.88888889, 2.        ])"
      ]
     },
     "execution_count": 10,
     "metadata": {},
     "output_type": "execute_result"
    }
   ],
   "source": [
    "arr6 = np.linspace(1,2,10)\n",
    "arr6"
   ]
  },
  {
   "cell_type": "markdown",
   "id": "9f175382-03ff-442e-8f90-ec33b44d16df",
   "metadata": {},
   "source": [
    "linspace(): It means linear space between the intervals"
   ]
  },
  {
   "cell_type": "markdown",
   "id": "5ebd88a7-08c8-486a-b5fe-9f4a5129284b",
   "metadata": {},
   "source": [
    "### Random Generation Function"
   ]
  },
  {
   "cell_type": "code",
   "execution_count": 11,
   "id": "5a994eb4-03b3-4a9b-b113-205e741a27f1",
   "metadata": {},
   "outputs": [
    {
     "data": {
      "text/plain": [
       "array([0.31910675, 0.15230088, 0.81670807, 0.84774706, 0.01178027,\n",
       "       0.05846023, 0.93914218, 0.0624845 , 0.48010735, 0.35810828])"
      ]
     },
     "execution_count": 11,
     "metadata": {},
     "output_type": "execute_result"
    }
   ],
   "source": [
    "arr7 = np.random.rand(10)\n",
    "arr7"
   ]
  },
  {
   "cell_type": "markdown",
   "id": "855cd32c-37b6-43c4-b472-80b2ad183125",
   "metadata": {},
   "source": [
    ".random.rand(): It gives the normalized value between 0 and 1."
   ]
  },
  {
   "cell_type": "code",
   "execution_count": 13,
   "id": "eb4e4415-5fc9-4432-9779-4b53f5aaa899",
   "metadata": {},
   "outputs": [
    {
     "data": {
      "text/plain": [
       "array([-0.48237925,  2.51233113, -0.66791057,  0.48700624, -0.04345737,\n",
       "       -2.38592961, -1.30128706, -0.76811515,  0.12946448,  1.39034974])"
      ]
     },
     "execution_count": 13,
     "metadata": {},
     "output_type": "execute_result"
    }
   ],
   "source": [
    "arr8 = np.random.randn(10)\n",
    "arr8"
   ]
  },
  {
   "cell_type": "markdown",
   "id": "397af5bd-7757-44c5-b45f-e174c7baf73a",
   "metadata": {},
   "source": [
    ".random.randn(): It gives the standardization value between -3 to 3"
   ]
  },
  {
   "cell_type": "code",
   "execution_count": 15,
   "id": "807dff4c-1d18-462e-ae05-2f55505ee4f9",
   "metadata": {},
   "outputs": [
    {
     "data": {
      "text/plain": [
       "array([5, 1, 9, 6, 8])"
      ]
     },
     "execution_count": 15,
     "metadata": {},
     "output_type": "execute_result"
    }
   ],
   "source": [
    "arr9 = np.random.randint(1,10,5)\n",
    "arr9"
   ]
  },
  {
   "cell_type": "markdown",
   "id": "90ffc071-f582-401a-a76f-f3b4251305f9",
   "metadata": {},
   "source": [
    ".random.randint(): It gives a random integer value. "
   ]
  },
  {
   "cell_type": "markdown",
   "id": "28a53d3f-3249-4dd2-9794-fca80a3a6266",
   "metadata": {},
   "source": [
    "### Array Attributes"
   ]
  },
  {
   "cell_type": "markdown",
   "id": "170b7abe-9c9f-4f15-8b86-fc8f36512857",
   "metadata": {},
   "source": [
    "Attributes are kind of variables defined inside the class."
   ]
  },
  {
   "cell_type": "markdown",
   "id": "f747c627-0982-4266-a6a2-5c598974424c",
   "metadata": {},
   "source": [
    "Method are functions define inside a class. "
   ]
  },
  {
   "cell_type": "code",
   "execution_count": 16,
   "id": "12c134dd-5a60-49e9-bc9d-25e97cda1c4e",
   "metadata": {},
   "outputs": [
    {
     "data": {
      "text/plain": [
       "array([[1, 2, 3],\n",
       "       [4, 5, 6],\n",
       "       [7, 8, 9]])"
      ]
     },
     "execution_count": 16,
     "metadata": {},
     "output_type": "execute_result"
    }
   ],
   "source": [
    "arr10 = np.array(list)\n",
    "arr10"
   ]
  },
  {
   "cell_type": "code",
   "execution_count": 17,
   "id": "b83a2760-d1cc-456e-85d2-ff4c245eddbe",
   "metadata": {},
   "outputs": [
    {
     "data": {
      "text/plain": [
       "(3, 3)"
      ]
     },
     "execution_count": 17,
     "metadata": {},
     "output_type": "execute_result"
    }
   ],
   "source": [
    "arr10.shape"
   ]
  },
  {
   "cell_type": "markdown",
   "id": "94609cb8-d6b0-4bf6-bf2a-0de0244fa669",
   "metadata": {},
   "source": [
    ".shape: It shows the number of rows and columns present in the array."
   ]
  },
  {
   "cell_type": "code",
   "execution_count": 18,
   "id": "f5dc19c3-bb1a-48a7-b09a-33097dae22e2",
   "metadata": {},
   "outputs": [
    {
     "data": {
      "text/plain": [
       "9"
      ]
     },
     "execution_count": 18,
     "metadata": {},
     "output_type": "execute_result"
    }
   ],
   "source": [
    "arr10.size"
   ]
  },
  {
   "cell_type": "markdown",
   "id": "ba00dcbb-0a3c-4b2d-a73c-511b1a6c2bc8",
   "metadata": {},
   "source": [
    ".size: It shows the elements presnt in the array."
   ]
  },
  {
   "cell_type": "code",
   "execution_count": 19,
   "id": "187e598e-1620-4773-a59e-b59f9dcb844d",
   "metadata": {},
   "outputs": [
    {
     "data": {
      "text/plain": [
       "dtype('int32')"
      ]
     },
     "execution_count": 19,
     "metadata": {},
     "output_type": "execute_result"
    }
   ],
   "source": [
    "arr10.dtype"
   ]
  },
  {
   "cell_type": "markdown",
   "id": "f24ffa23-dbd3-49f4-932e-6946ed433f57",
   "metadata": {},
   "source": [
    ".dtype: It shows the datatype of the array."
   ]
  },
  {
   "cell_type": "markdown",
   "id": "04005721-a31e-487f-bd60-0232c2fc9b19",
   "metadata": {},
   "source": [
    "### Array Methods"
   ]
  },
  {
   "cell_type": "code",
   "execution_count": 25,
   "id": "bf8cd938-9abe-4e52-bdb0-b65415633398",
   "metadata": {},
   "outputs": [
    {
     "data": {
      "text/plain": [
       "array([[1, 2, 3],\n",
       "       [4, 5, 6],\n",
       "       [7, 8, 9]])"
      ]
     },
     "execution_count": 25,
     "metadata": {},
     "output_type": "execute_result"
    }
   ],
   "source": [
    "arr10"
   ]
  },
  {
   "cell_type": "code",
   "execution_count": 20,
   "id": "8f21c580-fb79-4931-a125-fcd40e4f7a2f",
   "metadata": {},
   "outputs": [
    {
     "data": {
      "text/plain": [
       "1"
      ]
     },
     "execution_count": 20,
     "metadata": {},
     "output_type": "execute_result"
    }
   ],
   "source": [
    "arr10.min()"
   ]
  },
  {
   "cell_type": "markdown",
   "id": "da480d41-9f4d-4734-903a-4c67b4603446",
   "metadata": {},
   "source": [
    ".min(): It shows the minimum value present in the array."
   ]
  },
  {
   "cell_type": "code",
   "execution_count": 21,
   "id": "f1416fa0-b436-49e3-96a7-c91f716f9474",
   "metadata": {},
   "outputs": [
    {
     "data": {
      "text/plain": [
       "9"
      ]
     },
     "execution_count": 21,
     "metadata": {},
     "output_type": "execute_result"
    }
   ],
   "source": [
    "arr10.max()"
   ]
  },
  {
   "cell_type": "markdown",
   "id": "81383ca9-93c1-4684-beb5-391babea7f7d",
   "metadata": {},
   "source": [
    ".max(): It shows the maximum value present in the array."
   ]
  },
  {
   "cell_type": "code",
   "execution_count": 22,
   "id": "048dac3c-5afa-46ea-9045-db5f2bbab310",
   "metadata": {},
   "outputs": [
    {
     "data": {
      "text/plain": [
       "45"
      ]
     },
     "execution_count": 22,
     "metadata": {},
     "output_type": "execute_result"
    }
   ],
   "source": [
    "arr10.sum()"
   ]
  },
  {
   "cell_type": "markdown",
   "id": "57c24db0-420f-47b9-8aa5-9672fe491c50",
   "metadata": {},
   "source": [
    ".sum(): It shows the sum of the value present in the array."
   ]
  },
  {
   "cell_type": "code",
   "execution_count": 23,
   "id": "077283a0-cb15-4fea-b0cd-600ace7d9dee",
   "metadata": {},
   "outputs": [
    {
     "data": {
      "text/plain": [
       "array([12, 15, 18])"
      ]
     },
     "execution_count": 23,
     "metadata": {},
     "output_type": "execute_result"
    }
   ],
   "source": [
    "np.sum(arr10,axis=0)"
   ]
  },
  {
   "cell_type": "code",
   "execution_count": 24,
   "id": "eff166d9-6b48-420e-98df-882de76499d7",
   "metadata": {},
   "outputs": [
    {
     "data": {
      "text/plain": [
       "array([ 6, 15, 24])"
      ]
     },
     "execution_count": 24,
     "metadata": {},
     "output_type": "execute_result"
    }
   ],
   "source": [
    "np.sum(arr10,axis=1)"
   ]
  },
  {
   "cell_type": "markdown",
   "id": "69bfe9db-c91b-4d27-81dc-aba4113b69b1",
   "metadata": {},
   "source": [
    "np.sum(): It shows the sum of the array along with rows and columns based on the axis value.\n",
    "0 -> columns and 1 -> rows."
   ]
  },
  {
   "cell_type": "code",
   "execution_count": 27,
   "id": "1de6286a-fe7d-4045-8bd3-3afc51ebe7ba",
   "metadata": {},
   "outputs": [
    {
     "data": {
      "text/plain": [
       "5.0"
      ]
     },
     "execution_count": 27,
     "metadata": {},
     "output_type": "execute_result"
    }
   ],
   "source": [
    "arr10.mean()"
   ]
  },
  {
   "cell_type": "markdown",
   "id": "14ce1634-ad06-467b-ad85-7223a6c103a8",
   "metadata": {},
   "source": [
    ".mean(): It shows the mean value of the array"
   ]
  },
  {
   "cell_type": "code",
   "execution_count": 28,
   "id": "97991b27-773d-4bc8-8d9d-a1fa7c278aaa",
   "metadata": {},
   "outputs": [
    {
     "data": {
      "text/plain": [
       "2.581988897471611"
      ]
     },
     "execution_count": 28,
     "metadata": {},
     "output_type": "execute_result"
    }
   ],
   "source": [
    "arr10.std()"
   ]
  },
  {
   "cell_type": "markdown",
   "id": "6c9e14e7-bc38-4f51-a3ac-2f3569de81cb",
   "metadata": {},
   "source": [
    ".std(): It provide the standard deviation value of the array."
   ]
  },
  {
   "cell_type": "code",
   "execution_count": 29,
   "id": "7b009889-f6df-46d2-9a31-b28463e3a428",
   "metadata": {},
   "outputs": [
    {
     "data": {
      "text/plain": [
       "8"
      ]
     },
     "execution_count": 29,
     "metadata": {},
     "output_type": "execute_result"
    }
   ],
   "source": [
    "arr10.argmax()"
   ]
  },
  {
   "cell_type": "markdown",
   "id": "9913bf85-5b77-4318-80fb-fff24e1b097b",
   "metadata": {},
   "source": [
    ".argmax(): It shows the maximum index value of the array element."
   ]
  },
  {
   "cell_type": "code",
   "execution_count": 30,
   "id": "8d4a3933-eda4-4415-b7df-38e7043a7af0",
   "metadata": {},
   "outputs": [
    {
     "data": {
      "text/plain": [
       "0"
      ]
     },
     "execution_count": 30,
     "metadata": {},
     "output_type": "execute_result"
    }
   ],
   "source": [
    "arr10.argmin()"
   ]
  },
  {
   "cell_type": "markdown",
   "id": "416db890-149e-4998-95bd-b0a2890f09d9",
   "metadata": {},
   "source": [
    ".argmin(): It shows the minimum index value of the array element."
   ]
  },
  {
   "cell_type": "markdown",
   "id": "e579e78d-8fb3-453b-8306-c5e56aa88c09",
   "metadata": {},
   "source": [
    "### Reshaping And Resizing"
   ]
  },
  {
   "cell_type": "code",
   "execution_count": 31,
   "id": "e236f18d-7c5e-4fc6-a8ad-9c3d6c5e2c7f",
   "metadata": {},
   "outputs": [
    {
     "data": {
      "text/plain": [
       "array([ 1,  2,  3,  4,  5,  6,  7,  8,  9, 10, 11, 12, 13, 14, 15, 16, 17,\n",
       "       18, 19, 20, 21, 22, 23, 24, 25, 26, 27, 28, 29, 30])"
      ]
     },
     "execution_count": 31,
     "metadata": {},
     "output_type": "execute_result"
    }
   ],
   "source": [
    "arr11 = np.arange(1,31)\n",
    "arr11"
   ]
  },
  {
   "cell_type": "code",
   "execution_count": 32,
   "id": "ef4fcfa2-be91-4752-b8b9-75125394c123",
   "metadata": {},
   "outputs": [
    {
     "data": {
      "text/plain": [
       "array([[ 1,  2,  3,  4,  5],\n",
       "       [ 6,  7,  8,  9, 10],\n",
       "       [11, 12, 13, 14, 15],\n",
       "       [16, 17, 18, 19, 20],\n",
       "       [21, 22, 23, 24, 25],\n",
       "       [26, 27, 28, 29, 30]])"
      ]
     },
     "execution_count": 32,
     "metadata": {},
     "output_type": "execute_result"
    }
   ],
   "source": [
    "arr11.reshape(6,5)"
   ]
  },
  {
   "cell_type": "markdown",
   "id": "66cd9f09-5c22-4b2a-8470-2ed6d7aca8b2",
   "metadata": {},
   "source": [
    ".reshape(): It reshapes the array into a matrix with rows and columns."
   ]
  },
  {
   "cell_type": "code",
   "execution_count": 34,
   "id": "90dd8778-0c4b-4355-9586-576d92ed0cad",
   "metadata": {},
   "outputs": [
    {
     "data": {
      "text/plain": [
       "array([[ 1,  2,  3,  4,  5],\n",
       "       [ 6,  7,  8,  9, 10],\n",
       "       [11, 12, 13, 14, 15],\n",
       "       [16, 17, 18, 19, 20],\n",
       "       [21, 22, 23, 24, 25],\n",
       "       [26, 27, 28, 29, 30]])"
      ]
     },
     "execution_count": 34,
     "metadata": {},
     "output_type": "execute_result"
    }
   ],
   "source": [
    "arr12 = arr11.reshape(6,5)\n",
    "arr12"
   ]
  }
 ],
 "metadata": {
  "kernelspec": {
   "display_name": "Python 3 (ipykernel)",
   "language": "python",
   "name": "python3"
  },
  "language_info": {
   "codemirror_mode": {
    "name": "ipython",
    "version": 3
   },
   "file_extension": ".py",
   "mimetype": "text/x-python",
   "name": "python",
   "nbconvert_exporter": "python",
   "pygments_lexer": "ipython3",
   "version": "3.12.10"
  }
 },
 "nbformat": 4,
 "nbformat_minor": 5
}
