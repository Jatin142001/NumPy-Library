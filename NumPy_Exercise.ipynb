{
 "cells": [
  {
   "cell_type": "markdown",
   "id": "4fcccc8a-d81f-48b9-8577-0dd347ca5446",
   "metadata": {},
   "source": [
    "# Import NumPy Library"
   ]
  },
  {
   "cell_type": "code",
   "execution_count": 1,
   "id": "fe6647bc-53d2-408c-8149-3351affe2fb1",
   "metadata": {},
   "outputs": [],
   "source": [
    "import numpy as np"
   ]
  },
  {
   "cell_type": "markdown",
   "id": "1fb5ed70-e217-47a9-b8f5-d6c2b1af20f0",
   "metadata": {},
   "source": [
    "#### Valid Sudoku"
   ]
  },
  {
   "cell_type": "code",
   "execution_count": 14,
   "id": "e3339162-c03d-4238-9a43-2f6221cca88b",
   "metadata": {},
   "outputs": [],
   "source": [
    "sudoku = np.array([\n",
    "         [5,3,4,6,7,8,9,1,2],\n",
    "         [6,7,2,1,9,5,3,4,8],\n",
    "         [1,9,8,3,4,2,5,6,7],\n",
    "\n",
    "         [8,5,9,7,6,1,4,2,3],\n",
    "         [4,2,6,8,5,3,7,9,1],\n",
    "         [7,1,3,9,2,4,8,5,6],\n",
    "\n",
    "         [9,6,1,5,3,7,2,8,4],\n",
    "         [2,8,7,4,1,9,6,3,5],\n",
    "         [3,4,5,2,8,6,1,7,9]\n",
    "    \n",
    "])"
   ]
  },
  {
   "cell_type": "code",
   "execution_count": 28,
   "id": "13564604-336f-4bc8-899d-70c84fcbf396",
   "metadata": {},
   "outputs": [],
   "source": [
    "check_row = np.sum(sudoku,axis=1)"
   ]
  },
  {
   "cell_type": "code",
   "execution_count": 29,
   "id": "817aea48-da91-43dd-bb9a-36bb7159ea34",
   "metadata": {},
   "outputs": [
    {
     "data": {
      "text/plain": [
       "array([45, 45, 45, 45, 45, 45, 45, 45, 45])"
      ]
     },
     "execution_count": 29,
     "metadata": {},
     "output_type": "execute_result"
    }
   ],
   "source": [
    "check_row"
   ]
  },
  {
   "cell_type": "code",
   "execution_count": 26,
   "id": "86162bd0-4220-47e7-935c-cc9553192249",
   "metadata": {},
   "outputs": [
    {
     "name": "stdout",
     "output_type": "stream",
     "text": [
      "Sudoku is valid for rows\n"
     ]
    }
   ],
   "source": [
    "for i in check_row:\n",
    "    if i != 45:\n",
    "        print(\"Sudoku is not valid for rows\")\n",
    "        break\n",
    "else:\n",
    "    print(\"Sudoku is valid for rows\")"
   ]
  },
  {
   "cell_type": "code",
   "execution_count": 23,
   "id": "18494ec6-6746-4c5b-817f-8d8b4c3c94a0",
   "metadata": {},
   "outputs": [],
   "source": [
    "check_column = np.sum(sudoku,axis=0)"
   ]
  },
  {
   "cell_type": "code",
   "execution_count": 30,
   "id": "db55ac92-01be-40f7-ae91-fbe3fe1784db",
   "metadata": {},
   "outputs": [
    {
     "data": {
      "text/plain": [
       "array([45, 45, 45, 45, 45, 45, 45, 45, 45])"
      ]
     },
     "execution_count": 30,
     "metadata": {},
     "output_type": "execute_result"
    }
   ],
   "source": [
    "check_column"
   ]
  },
  {
   "cell_type": "code",
   "execution_count": 27,
   "id": "4c8f7852-8232-4c07-a354-17cfe14e218b",
   "metadata": {},
   "outputs": [
    {
     "name": "stdout",
     "output_type": "stream",
     "text": [
      "Sudoku is valid for column\n"
     ]
    }
   ],
   "source": [
    "for i in check_column:\n",
    "    if i != 45:\n",
    "        print(\"Sudoku is not valid for columns\")\n",
    "        break\n",
    "else:\n",
    "    print(\"Sudoku is valid for column\")\n"
   ]
  },
  {
   "cell_type": "code",
   "execution_count": 31,
   "id": "d3711eef-4027-44d7-ab22-7558645dffc6",
   "metadata": {},
   "outputs": [
    {
     "data": {
      "text/plain": [
       "array([[5, 3, 4],\n",
       "       [6, 7, 2],\n",
       "       [1, 9, 8]])"
      ]
     },
     "execution_count": 31,
     "metadata": {},
     "output_type": "execute_result"
    }
   ],
   "source": [
    "sudoku[0:3,0:3]"
   ]
  },
  {
   "cell_type": "code",
   "execution_count": 32,
   "id": "fc35488d-86ff-440a-934a-2c4cf2d1ce28",
   "metadata": {},
   "outputs": [
    {
     "data": {
      "text/plain": [
       "array([[6, 7, 8],\n",
       "       [1, 9, 5],\n",
       "       [3, 4, 2]])"
      ]
     },
     "execution_count": 32,
     "metadata": {},
     "output_type": "execute_result"
    }
   ],
   "source": [
    "sudoku[0:3,3:6]"
   ]
  },
  {
   "cell_type": "code",
   "execution_count": 33,
   "id": "ae479cb6-9af1-48d2-8621-36467297a313",
   "metadata": {},
   "outputs": [
    {
     "data": {
      "text/plain": [
       "array([[9, 1, 2],\n",
       "       [3, 4, 8],\n",
       "       [5, 6, 7]])"
      ]
     },
     "execution_count": 33,
     "metadata": {},
     "output_type": "execute_result"
    }
   ],
   "source": [
    "sudoku[0:3,6:]"
   ]
  },
  {
   "cell_type": "code",
   "execution_count": 36,
   "id": "16c4f5b8-fb81-46bb-b0f9-216b4efd0588",
   "metadata": {},
   "outputs": [
    {
     "data": {
      "text/plain": [
       "array([[5, 3, 4, 6, 7, 8, 9, 1, 2],\n",
       "       [6, 7, 2, 1, 9, 5, 3, 4, 8],\n",
       "       [1, 9, 8, 3, 4, 2, 5, 6, 7],\n",
       "       [8, 5, 9, 7, 6, 1, 4, 2, 3],\n",
       "       [4, 2, 6, 8, 5, 3, 7, 9, 1],\n",
       "       [7, 1, 3, 9, 2, 4, 8, 5, 6],\n",
       "       [9, 6, 1, 5, 3, 7, 2, 8, 4],\n",
       "       [2, 8, 7, 4, 1, 9, 6, 3, 5],\n",
       "       [3, 4, 5, 2, 8, 6, 1, 7, 9]])"
      ]
     },
     "execution_count": 36,
     "metadata": {},
     "output_type": "execute_result"
    }
   ],
   "source": [
    "sudoku"
   ]
  },
  {
   "cell_type": "code",
   "execution_count": 37,
   "id": "28c17468-4b65-49ba-b8ee-cc89ad5072b6",
   "metadata": {},
   "outputs": [
    {
     "name": "stdout",
     "output_type": "stream",
     "text": [
      "45\n",
      "45\n",
      "45\n",
      "45\n",
      "45\n",
      "45\n",
      "45\n",
      "45\n",
      "45\n"
     ]
    }
   ],
   "source": [
    "for i in range(0,9,3):\n",
    "    for j in range(0,9,3):\n",
    "        n = sudoku[i:i+3,j:j+3]\n",
    "        print(n.sum())"
   ]
  },
  {
   "cell_type": "markdown",
   "id": "e2224f9d-74b0-4710-8361-1f4bf8cb3842",
   "metadata": {},
   "source": [
    "### General Questions"
   ]
  },
  {
   "cell_type": "code",
   "execution_count": 38,
   "id": "6513ee87-d1a1-4f75-aeef-4ead58120163",
   "metadata": {},
   "outputs": [],
   "source": [
    "# Columns: [Age, Math Marks, Science Marks]\n",
    "data = np.array([\n",
    "        [18,85,78],  #Student 1\n",
    "        [19,92,88],  #Student 2\n",
    "        [17,76,95],  #Student 3\n",
    "        [18,65,70],  #Student 4\n",
    "        [20,90,85]   #Student 5\n",
    "])"
   ]
  },
  {
   "cell_type": "code",
   "execution_count": 42,
   "id": "e5b06967-4970-4365-9f32-673f825a9498",
   "metadata": {},
   "outputs": [
    {
     "data": {
      "text/plain": [
       "(5, 3)"
      ]
     },
     "execution_count": 42,
     "metadata": {},
     "output_type": "execute_result"
    }
   ],
   "source": [
    "#Get the shape of the matrix.\n",
    "data.shape"
   ]
  },
  {
   "cell_type": "code",
   "execution_count": 43,
   "id": "295de629-ccd3-4cbf-93a2-e07ba5a06674",
   "metadata": {},
   "outputs": [
    {
     "data": {
      "text/plain": [
       "18.4"
      ]
     },
     "execution_count": 43,
     "metadata": {},
     "output_type": "execute_result"
    }
   ],
   "source": [
    "#Find the average age of students.\n",
    "np.mean(data[:,0])"
   ]
  },
  {
   "cell_type": "code",
   "execution_count": 44,
   "id": "f8434621-d493-40c7-a2db-915fefb677ba",
   "metadata": {},
   "outputs": [
    {
     "data": {
      "text/plain": [
       "array([85, 92, 76, 65, 90])"
      ]
     },
     "execution_count": 44,
     "metadata": {},
     "output_type": "execute_result"
    }
   ],
   "source": [
    "#Extract the Math marks of all students.\n",
    "data[:,1]"
   ]
  },
  {
   "cell_type": "code",
   "execution_count": 46,
   "id": "f32adc5b-99f0-4ba5-b6cb-735f9e629e11",
   "metadata": {},
   "outputs": [
    {
     "data": {
      "text/plain": [
       "95"
      ]
     },
     "execution_count": 46,
     "metadata": {},
     "output_type": "execute_result"
    }
   ],
   "source": [
    "#Find the highest Science mark.\n",
    "np.max(data[:,2])"
   ]
  },
  {
   "cell_type": "code",
   "execution_count": 48,
   "id": "8a0b75ba-d17f-459e-b6a3-79469f991f02",
   "metadata": {},
   "outputs": [
    {
     "data": {
      "text/plain": [
       "array([[19, 92, 88]])"
      ]
     },
     "execution_count": 48,
     "metadata": {},
     "output_type": "execute_result"
    }
   ],
   "source": [
    "#Get details of the student who scored more than 90 in Math.\n",
    "data[data[:,1] > 90]"
   ]
  },
  {
   "cell_type": "code",
   "execution_count": 49,
   "id": "0713257c-cfc1-4f5d-a38b-ad09cf2fc389",
   "metadata": {},
   "outputs": [
    {
     "data": {
      "text/plain": [
       "array([[18, 90, 78],\n",
       "       [19, 97, 88],\n",
       "       [17, 81, 95],\n",
       "       [18, 70, 70],\n",
       "       [20, 95, 85]])"
      ]
     },
     "execution_count": 49,
     "metadata": {},
     "output_type": "execute_result"
    }
   ],
   "source": [
    "#Increase the Math marks of all students by 5.\n",
    "data[:,1] += 5\n",
    "data"
   ]
  },
  {
   "cell_type": "code",
   "execution_count": 53,
   "id": "6bcc8f89-724a-4395-96ee-255d10dfb4ea",
   "metadata": {},
   "outputs": [
    {
     "data": {
      "text/plain": [
       "array([[18, 90, 78],\n",
       "       [17, 81, 95],\n",
       "       [18, 70, 70]])"
      ]
     },
     "execution_count": 53,
     "metadata": {},
     "output_type": "execute_result"
    }
   ],
   "source": [
    "#Find how many students are younger than 19.\n",
    "data[data[:,0] < 19]"
   ]
  },
  {
   "cell_type": "code",
   "execution_count": 54,
   "id": "171abd60-c907-451b-b70c-ae318f4622d9",
   "metadata": {},
   "outputs": [
    {
     "data": {
      "text/plain": [
       "3"
      ]
     },
     "execution_count": 54,
     "metadata": {},
     "output_type": "execute_result"
    }
   ],
   "source": [
    "len(data[data[:,0] < 19])"
   ]
  },
  {
   "cell_type": "code",
   "execution_count": 57,
   "id": "65e902cc-d0fc-48f5-8088-2e02f1a09c43",
   "metadata": {},
   "outputs": [
    {
     "data": {
      "text/plain": [
       "array([[90, 78],\n",
       "       [97, 88],\n",
       "       [81, 95],\n",
       "       [70, 70],\n",
       "       [95, 85]])"
      ]
     },
     "execution_count": 57,
     "metadata": {},
     "output_type": "execute_result"
    }
   ],
   "source": [
    "#Calculate the average marks in each subject(column-wise mean).\n",
    "data[:,1:]"
   ]
  },
  {
   "cell_type": "code",
   "execution_count": 58,
   "id": "430d0667-faa3-4f6e-87e1-b8802e44a272",
   "metadata": {},
   "outputs": [
    {
     "data": {
      "text/plain": [
       "array([86.6, 83.2])"
      ]
     },
     "execution_count": 58,
     "metadata": {},
     "output_type": "execute_result"
    }
   ],
   "source": [
    "np.mean(data[:,1:],axis=0)"
   ]
  },
  {
   "cell_type": "code",
   "execution_count": 60,
   "id": "83649012-9ce1-4bb4-a4fc-e7fda9a58df0",
   "metadata": {},
   "outputs": [
    {
     "data": {
      "text/plain": [
       "array([[19, 97, 88],\n",
       "       [17, 81, 95],\n",
       "       [20, 95, 85]])"
      ]
     },
     "execution_count": 60,
     "metadata": {},
     "output_type": "execute_result"
    }
   ],
   "source": [
    "#Get the data of students who scored at least 80 in both subjects.\n",
    "data[(data[:,1] >= 80) & (data[:,2] >= 80)]"
   ]
  },
  {
   "cell_type": "code",
   "execution_count": 63,
   "id": "bd79bf2e-a3e6-4639-bf13-bb7bb8888b39",
   "metadata": {},
   "outputs": [
    {
     "data": {
      "text/plain": [
       "array([[18, 90, 78],\n",
       "       [19, 97, 88],\n",
       "       [17, 81, 95],\n",
       "       [18, 70,  0],\n",
       "       [20, 95, 85]])"
      ]
     },
     "execution_count": 63,
     "metadata": {},
     "output_type": "execute_result"
    }
   ],
   "source": [
    "#Replace all science marks < 75 with 0.\n",
    "data[:,2][data[:,2] < 75] = 0\n",
    "data"
   ]
  }
 ],
 "metadata": {
  "kernelspec": {
   "display_name": "Python 3 (ipykernel)",
   "language": "python",
   "name": "python3"
  },
  "language_info": {
   "codemirror_mode": {
    "name": "ipython",
    "version": 3
   },
   "file_extension": ".py",
   "mimetype": "text/x-python",
   "name": "python",
   "nbconvert_exporter": "python",
   "pygments_lexer": "ipython3",
   "version": "3.12.10"
  }
 },
 "nbformat": 4,
 "nbformat_minor": 5
}
